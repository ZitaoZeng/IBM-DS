{
 "cells": [
  {
   "cell_type": "markdown",
   "metadata": {},
   "source": [
    "# Data Science Tools and Ecosystem"
   ]
  },
  {
   "cell_type": "markdown",
   "metadata": {},
   "source": [
    "In this notebook, Data Science Tools and Ecosystem are summarized."
   ]
  },
  {
   "cell_type": "markdown",
   "metadata": {},
   "source": [
    "Some of the popular languages that Data Scientists use are:"
   ]
  },
  {
   "cell_type": "markdown",
   "metadata": {},
   "source": [
    "1. Python: Widely used for its simplicity and vast ecosystem of libraries such as pandas, NumPy, scikit-learn, and TensorFlow.\n",
    "2. R: Known for its strong statistical analysis capabilities and extensive library support, particularly in bioinformatics and social sciences.\n",
    "3. SQL: Essential for data manipulation and querying databases, making it crucial for handling large datasets and performing complex queries.\n",
    "4. Julia: Gaining popularity for its high performance in numerical and scientific computing, with syntax similar to Python and MATLAB.\n",
    "5. SAS: Traditionally used in business analytics, finance, and pharmaceutical industries for advanced analytics, business intelligence, and data management."
   ]
  },
  {
   "cell_type": "markdown",
   "metadata": {},
   "source": [
    "Some of the commonly used libraries used by Data Scientists include:"
   ]
  },
  {
   "cell_type": "markdown",
   "metadata": {},
   "source": [
    "1. pandas: Essential for data manipulation and analysis, providing data structures and functions needed to manipulate structured data seamlessly.\n",
    "2. NumPy: Fundamental for numerical computing in Python, providing support for arrays, matrices, and a large collection of mathematical functions.\n",
    "3. scikit-learn: Widely used for machine learning, offering simple and efficient tools for data mining and data analysis.\n",
    "4. TensorFlow: An open-source library developed by Google for deep learning and machine learning, popular for building neural networks.\n",
    "5. matplotlib: A plotting library used for creating static, interactive, and animated visualizations in Python.\n"
   ]
  },
  {
   "cell_type": "markdown",
   "metadata": {},
   "source": [
    "**Objectives:**\n",
    "- List popular languages for Data Science\n",
    "- List commonly used libraries in Data Science\n",
    "- Identify development environment open source tools used in Data Science\n",
    "- Provide examples of evaluating arithmetic expressions in Python\n",
    "- Convert units (e.g., minutes to hours) using Python expressions"
   ]
  },
  {
   "cell_type": "markdown",
   "metadata": {},
   "source": [
    "| Data Science Tools                |\n",
    "|-----------------------------------|\n",
    "| Jupyter Notebook                  |\n",
    "| RStudio                           |\n",
    "| Visual Studio Code (VS Code)      |"
   ]
  },
  {
   "cell_type": "markdown",
   "metadata": {},
   "source": [
    "Below are a few examples of evaluating arithmetic expressions in Python:\n",
    "\n",
    "1. **Addition**: `3 + 5` results in `8`\n",
    "2. **Subtraction**: `10 - 4` results in `6`\n",
    "3. **Multiplication**: `7 * 6` results in `42`\n",
    "4. **Division**: `20 / 5` results in `4.0`\n",
    "5. **Exponentiation**: `2 ** 3` results in `8`\n",
    "6. **Modulo**: `10 % 3` results in `1`"
   ]
  },
  {
   "cell_type": "code",
   "execution_count": 4,
   "metadata": {},
   "outputs": [
    {
     "data": {
      "text/plain": [
       "17"
      ]
     },
     "execution_count": 4,
     "metadata": {},
     "output_type": "execute_result"
    }
   ],
   "source": [
    "# This is a simple arithmetic expression to multiply then add integers\n",
    "result = (3 * 4) + 5\n",
    "result"
   ]
  },
  {
   "cell_type": "code",
   "execution_count": 5,
   "metadata": {},
   "outputs": [
    {
     "data": {
      "text/plain": [
       "3.3333333333333335"
      ]
     },
     "execution_count": 5,
     "metadata": {},
     "output_type": "execute_result"
    }
   ],
   "source": [
    "# This will convert 200 minutes to hours by dividing by 60\n",
    "minutes = 200\n",
    "hours = minutes / 60\n",
    "hours"
   ]
  },
  {
   "cell_type": "markdown",
   "metadata": {},
   "source": [
    "## Author\n",
    "Zitao"
   ]
  }
 ],
 "metadata": {
  "kernelspec": {
   "display_name": "Python 3 (ipykernel)",
   "language": "python",
   "name": "python3"
  },
  "language_info": {
   "codemirror_mode": {
    "name": "ipython",
    "version": 3
   },
   "file_extension": ".py",
   "mimetype": "text/x-python",
   "name": "python",
   "nbconvert_exporter": "python",
   "pygments_lexer": "ipython3",
   "version": "3.11.4"
  }
 },
 "nbformat": 4,
 "nbformat_minor": 2
}
